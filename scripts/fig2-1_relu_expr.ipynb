{
 "cells": [
  {
   "cell_type": "markdown",
   "id": "3ddd5c83-949b-43cc-a331-df73ac0edace",
   "metadata": {
    "execution": {
     "iopub.execute_input": "2021-08-26T04:02:38.931651Z",
     "iopub.status.busy": "2021-08-26T04:02:38.931271Z",
     "iopub.status.idle": "2021-08-26T04:02:38.941864Z",
     "shell.execute_reply": "2021-08-26T04:02:38.941550Z",
     "shell.execute_reply.started": "2021-08-26T04:02:38.931613Z"
    },
    "tags": []
   },
   "source": [
    "**optoSTING results - Figure 2 - Identification of the *ReLU* relation**"
   ]
  },
  {
   "cell_type": "markdown",
   "id": "2c78aa28-dda6-4d9b-80da-ce6d5e87756e",
   "metadata": {
    "execution": {
     "iopub.execute_input": "2021-08-26T04:02:38.931651Z",
     "iopub.status.busy": "2021-08-26T04:02:38.931271Z",
     "iopub.status.idle": "2021-08-26T04:02:38.941864Z",
     "shell.execute_reply": "2021-08-26T04:02:38.941550Z",
     "shell.execute_reply.started": "2021-08-26T04:02:38.931613Z"
    },
    "tags": []
   },
   "source": [
    "# Imports"
   ]
  },
  {
   "cell_type": "code",
   "execution_count": 2,
   "id": "41c14623",
   "metadata": {
    "execution": {
     "iopub.execute_input": "2022-03-19T11:31:30.079619Z",
     "iopub.status.busy": "2022-03-19T11:31:30.079427Z",
     "iopub.status.idle": "2022-03-19T11:31:30.084109Z",
     "shell.execute_reply": "2022-03-19T11:31:30.083739Z",
     "shell.execute_reply.started": "2022-03-19T11:31:30.079605Z"
    },
    "tags": []
   },
   "outputs": [],
   "source": [
    "import os\n",
    "import numpy as np\n",
    "import pandas as pd\n",
    "import seaborn as sns\n",
    "from matplotlib import pyplot as plt\n",
    "from plotstyle import defaultStyle, save_fig\n",
    "from scipy.optimize import curve_fit\n",
    "from sklearn.metrics import r2_score\n",
    "import mygene\n",
    "from matplotlib.gridspec import GridSpec\n",
    "from ast import literal_eval\n",
    "\n",
    "defaultStyle()\n",
    "%matplotlib inline\n",
    "# %config InlineBackend.figure_format = 'svg'\n",
    "\n",
    "DATA_DIR = os.path.join(\"../data/\")\n",
    "data_xls = os.path.join(DATA_DIR, \"Experimental_Data_1.xlsx\")"
   ]
  },
  {
   "cell_type": "markdown",
   "id": "9252e919",
   "metadata": {},
   "source": [
    "# Utils"
   ]
  },
  {
   "cell_type": "code",
   "execution_count": 3,
   "id": "646cbd02-91a0-4222-bf71-ee89fa01994e",
   "metadata": {
    "execution": {
     "iopub.execute_input": "2022-03-19T11:31:31.882221Z",
     "iopub.status.busy": "2022-03-19T11:31:31.882035Z",
     "iopub.status.idle": "2022-03-19T11:31:31.888368Z",
     "shell.execute_reply": "2022-03-19T11:31:31.888041Z",
     "shell.execute_reply.started": "2022-03-19T11:31:31.882206Z"
    },
    "tags": []
   },
   "outputs": [],
   "source": [
    "def relu(fs_arr, fs_c, gamma, yintercp):\n",
    "    return np.array([gamma * np.max([0, fs - fs_c]) + yintercp for fs in fs_arr])\n",
    "\n",
    "\n",
    "def sr_relu_plot(rawdata, x=50, y=50, p0=[50, 2, 3], hue=\"sr_ratio\", hue_log=True, ax=None, cmap=\"autumn_r\", cbar_ticks=[1/100, 1/10, 1, 10, 100], inclusive=True):\n",
    "    # Scatter plot\n",
    "    # data = rawdata.copy(deep=True).dropna(how='any', inplace=True)\n",
    "    if hue_log:\n",
    "        hue_data = np.log(data[hue])\n",
    "    else:\n",
    "        hue_data = data[hue]\n",
    "    sns.scatterplot(x=\"sender\", y=\"receiver\", hue=hue_data, data=data, legend=False, markers=\"o\", s=100, palette=cmap, ax=ax)\n",
    "    ax.scatter([100], [100], s=100, edgecolor=\"k\", color=\"white\")\n",
    "    xdata = np.linspace(0, np.max(data[\"sender\"]), 1000)\n",
    "    xdata_2 = np.linspace(np.max(data[\"sender\"]), 120, 1000)\n",
    "    \n",
    "    # Fitting\n",
    "    if inclusive:\n",
    "        popt, pcov = curve_fit(relu, data[\"sender\"].tolist() + [100], data[\"receiver\"].tolist() + [100], p0=p0)\n",
    "    else:\n",
    "        popt, pcov = curve_fit(relu, data[\"sender\"].tolist(), data[\"receiver\"].tolist(), p0=p0)\n",
    "    ax.plot(xdata, relu(xdata, *popt), \"k\", lw=2)\n",
    "    ax.plot(xdata_2, relu(xdata_2, *popt), \"k\", ls=\"--\", lw=2)\n",
    "    r2score = r2_score(data[\"receiver\"], relu(data[\"sender\"], *popt))\n",
    "    ax.text(x, y, \"$\\mathregular{R^2=%.2f}$\"%r2score, fontsize=14)\n",
    "    \n",
    "    return r2score"
   ]
  },
  {
   "cell_type": "markdown",
   "id": "db1c7a28-ed1f-4440-9613-df3b5eac3c8b",
   "metadata": {},
   "source": [
    "# S-R *ReLU*"
   ]
  },
  {
   "cell_type": "code",
   "execution_count": 5,
   "id": "b2c68a7b-3a80-4e00-b407-8b1a188a2360",
   "metadata": {
    "execution": {
     "iopub.execute_input": "2022-03-18T10:59:50.906892Z",
     "iopub.status.busy": "2022-03-18T10:59:50.906696Z",
     "iopub.status.idle": "2022-03-18T10:59:51.366033Z",
     "shell.execute_reply": "2022-03-18T10:59:51.365693Z",
     "shell.execute_reply.started": "2022-03-18T10:59:50.906877Z"
    },
    "tags": []
   },
   "outputs": [
    {
     "name": "stdout",
     "output_type": "stream",
     "text": [
      "Saving figure expr_relu\n"
     ]
    },
    {
     "name": "stderr",
     "output_type": "stream",
     "text": [
      "/home/liboyan/Documents/optoSTING/scripts/plotstyle.py:20: UserWarning: This figure includes Axes that are not compatible with tight_layout, so results might be incorrect.\n",
      "  plt.tight_layout()\n"
     ]
    },
    {
     "data": {
      "image/png": "[encoded data removed]",
      "text/plain": [
       "<Figure size 378x360 with 5 Axes>"
      ]
     },
     "metadata": {
      "needs_background": "light"
     },
     "output_type": "display_data"
    }
   ],
   "source": [
    "sheet_name = \"191019_SRMix\"\n",
    "data = pd.read_excel(data_xls, sheet_name=sheet_name, engine=\"openpyxl\", keep_default_na=False)\n",
    "data['sr_ratio_log'] = data.sr_ratio.apply(np.log)\n",
    "\n",
    "xlims = [[17, 75], [97, 103]]\n",
    "ylims = [[91, 103], [-2, 51]]\n",
    "\n",
    "fig = plt.figure(figsize=(5.25, 5))\n",
    "gs = GridSpec(2, 3, width_ratios=[9, 1, 0.5], height_ratios=[2, 8], wspace=0.06, hspace=0.09)\n",
    "# gs = gs_full[:, :2]\n",
    "\n",
    "kwargs = dict(marker=[(-1, -1), (1, 1)], markersize=6, linestyle=\"none\", color='k', mec='k', mew=1, clip_on=False)\n",
    "\n",
    "cmap = \"autumn_r\"\n",
    "p0 = [50, 2, 3]\n",
    "popt, pcov = curve_fit(relu, data[\"sender\"].tolist() + [100], data[\"receiver\"].tolist() + [100], p0=p0)\n",
    "xdata = np.linspace(0, np.max(data[\"sender\"]), 1000)\n",
    "xdata_2 = np.linspace(np.max(data[\"sender\"]), 120, 100)\n",
    "    \n",
    "r2score = r2_score(data[\"receiver\"], relu(data[\"sender\"], *popt))\n",
    "\n",
    "axes = []\n",
    "for i in [0, 1]:\n",
    "    for j in [0, 1]:\n",
    "        ax = fig.add_subplot(gs[i, j])\n",
    "        axes.append(ax)\n",
    "        if i == 0:\n",
    "            dict(ax.spines)['bottom'].set_visible(False)\n",
    "            ax.xaxis.set_visible(False)\n",
    "        else:\n",
    "            dict(ax.spines)['top'].set_visible(False)\n",
    "        if j == 0:\n",
    "            dict(ax.spines)['right'].set_visible(False)\n",
    "        else:            \n",
    "            dict(ax.spines)['left'].set_visible(False)\n",
    "            ax.yaxis.set_visible(False)\n",
    "        ax.plot(xdata, relu(xdata, *popt), \"k\", lw=2)\n",
    "        ax.plot(xdata_2, relu(xdata_2, *popt), \"k\", ls=\"--\", lw=2)\n",
    "        sns.scatterplot(\n",
    "            x=\"sender\", \n",
    "            y=\"receiver\", \n",
    "            hue='sr_ratio_log', \n",
    "            data=data, \n",
    "            legend=False, \n",
    "            markers=\"o\", \n",
    "            s=100,\n",
    "            palette=cmap, \n",
    "            ax=ax\n",
    "        )\n",
    "        ax.plot([i], [j], transform=ax.transAxes, **kwargs)\n",
    "        ax.plot([1-i], [1-j], transform=ax.transAxes, **kwargs)\n",
    "        ax.scatter([100], [100], s=100, edgecolor=\"k\", color=\"white\")\n",
    "        ax.set_xlim(xlims[j])\n",
    "        ax.set_ylim(ylims[i])\n",
    "        ax.set_xlabel('')\n",
    "        ax.set_ylabel('')\n",
    "\n",
    "axes[2].set_xlabel(\"$\\mathregular{f_S\\;(\\%)}$\")\n",
    "axes[2].set_ylabel(\"$\\mathregular{f_R\\;(\\%)}$\")\n",
    "axes[2].text(40, 30, \"$\\mathregular{R^2=%.2f}$\"%r2score, fontsize=14)\n",
    "axes[0].set_yticks([100])\n",
    "axes[3].set_xticks([100])\n",
    "\n",
    "# Colorbar\n",
    "ax = fig.add_subplot(gs[:, 2])\n",
    "cbar_ticks = [1/100, 1/10, 1, 10, 100]\n",
    "norm = plt.Normalize(data.sr_ratio_log.min(), data.sr_ratio_log.max())\n",
    "sm = plt.cm.ScalarMappable(cmap=cmap, norm=norm)\n",
    "sm.set_array([])\n",
    "cb = plt.colorbar(sm, cax=ax)\n",
    "cb.set_ticks(np.log(cbar_ticks))\n",
    "cb.set_ticklabels(cbar_ticks)\n",
    "ax.set_xlabel(\"S:R\", fontsize=14)\n",
    "save_fig(\"expr_relu\")"
   ]
  },
  {
   "cell_type": "markdown",
   "id": "ff41c9b2-9d0b-4350-a2ac-615a9fee4321",
   "metadata": {},
   "source": [
    "# Varying lighting intensities"
   ]
  },
  {
   "cell_type": "markdown",
   "id": "9cac3c2c-fa06-4990-b69a-eaa92854482e",
   "metadata": {},
   "source": [
    "## 0.5h"
   ]
  },
  {
   "cell_type": "code",
   "execution_count": 6,
   "id": "7699da84-19a5-433a-8684-3ac6588718f6",
   "metadata": {
    "execution": {
     "iopub.execute_input": "2022-03-18T11:00:51.198419Z",
     "iopub.status.busy": "2022-03-18T11:00:51.198215Z",
     "iopub.status.idle": "2022-03-18T11:00:51.546366Z",
     "shell.execute_reply": "2022-03-18T11:00:51.546025Z",
     "shell.execute_reply.started": "2022-03-18T11:00:51.198403Z"
    },
    "tags": []
   },
   "outputs": [
    {
     "name": "stdout",
     "output_type": "stream",
     "text": [
      "Saving figure 0.5h_relu\n"
     ]
    },
    {
     "name": "stderr",
     "output_type": "stream",
     "text": [
      "/home/liboyan/Documents/optoSTING/scripts/plotstyle.py:20: UserWarning: This figure includes Axes that are not compatible with tight_layout, so results might be incorrect.\n",
      "  plt.tight_layout()\n"
     ]
    },
    {
     "data": {
      "image/png": "[encoded data removed]",
      "text/plain": [
       "<Figure size 360x396 with 5 Axes>"
      ]
     },
     "metadata": {
      "needs_background": "light"
     },
     "output_type": "display_data"
    }
   ],
   "source": [
    "sheet_name = \"210825_SRMix_0.5h\"\n",
    "data = pd.read_excel(data_xls, sheet_name=sheet_name, engine=\"openpyxl\")\n",
    "data['sr_ratio_log'] = data.sr_ratio.apply(np.log)\n",
    "\n",
    "xlims = [[20, 66], [94, 105]]\n",
    "ylims = [[95, 108], [-2, 52]]\n",
    "\n",
    "fig = plt.figure(figsize=(5, 5.5))\n",
    "gs = GridSpec(3, 2, width_ratios=[8, 2], height_ratios=[1, 2, 8], wspace=0.04, hspace=0.1)\n",
    "\n",
    "kwargs = dict(marker=[(-1, -1), (1, 1)], markersize=6, linestyle=\"none\", color='k', mec='k', mew=1, clip_on=False)\n",
    "\n",
    "cmap = \"autumn_r\"\n",
    "p0 = [50, 2, 3]\n",
    "popt, pcov = curve_fit(relu, data[\"sender\"].tolist() + [100], data[\"receiver\"].tolist() + [100], p0=p0)\n",
    "xdata = np.linspace(0, np.max(data[\"sender\"]), 1000)\n",
    "xdata_2 = np.linspace(np.max(data[\"sender\"]), 120, 100)\n",
    "    \n",
    "r2score = r2_score(data[\"receiver\"], relu(data[\"sender\"], *popt))\n",
    "ax = fig.add_subplot(gs[0, :2])\n",
    "ax.plot([-0.2, 0, 0, 0.5, 0.5, 4], [0, 0, 1, 1, 0, 0], c=\"r\", lw=2)\n",
    "ax.fill([0, 0, 0.5, 0.5, 0], [0, 1, 1, 0, 0], color=\"r\", alpha=0.5)\n",
    "ax.set_xlim([-0.2, 4.2])\n",
    "ax.set_ylim([-0.2, 1.2])\n",
    "ax.axis(\"off\")\n",
    "ax.text(0.05, 1.5, \"0.5h\", fontsize=14, family=\"Arial\")\n",
    "\n",
    "axes = []\n",
    "for i in [0, 1]:\n",
    "    for j in [0, 1]:\n",
    "        ax = fig.add_subplot(gs[i+1, j])\n",
    "        axes.append(ax)        \n",
    "        if i == 0:\n",
    "            dict(ax.spines)['bottom'].set_visible(False)\n",
    "            ax.xaxis.set_visible(False)\n",
    "        else:\n",
    "            dict(ax.spines)['top'].set_visible(False)\n",
    "        if j == 0:\n",
    "            dict(ax.spines)['right'].set_visible(False)\n",
    "        else:            \n",
    "            dict(ax.spines)['left'].set_visible(False)\n",
    "            ax.yaxis.set_visible(False)\n",
    "        ax.plot(xdata, relu(xdata, *popt), \"k\", lw=2)\n",
    "        ax.plot(xdata_2, relu(xdata_2, *popt), \"k\", ls=\"--\", lw=2)\n",
    "        sns.scatterplot(\n",
    "            x=\"sender\", \n",
    "            y=\"receiver\", \n",
    "            hue='sr_ratio_log', \n",
    "            data=data, \n",
    "            legend=False, \n",
    "            markers=\"o\", \n",
    "            s=100,\n",
    "            palette=cmap, \n",
    "            ax=ax\n",
    "        )\n",
    "        ax.plot([i], [j], transform=ax.transAxes, **kwargs)\n",
    "        ax.plot([1-i], [1-j], transform=ax.transAxes, **kwargs)\n",
    "        ax.scatter([100], [100], s=100, edgecolor=\"k\", color=\"white\")\n",
    "        ax.set_xlim(xlims[j])\n",
    "        ax.set_ylim(ylims[i])\n",
    "        ax.set_xlabel('')\n",
    "        ax.set_ylabel('')\n",
    "\n",
    "axes[2].set_xlabel(\"$\\mathregular{f_S\\;(\\%)}$\")\n",
    "axes[2].set_ylabel(\"$\\mathregular{f_R\\;(\\%)}$\")\n",
    "axes[2].text(30, 30, \"$\\mathregular{R^2=%.2f}$\"%r2score, fontsize=14)\n",
    "axes[0].set_yticks([100])\n",
    "axes[3].set_xticks([100])\n",
    "save_fig(\"0.5h_relu\")"
   ]
  },
  {
   "cell_type": "markdown",
   "id": "c878f2ff-1031-45d7-9483-1321a43de651",
   "metadata": {},
   "source": [
    "## 1h"
   ]
  },
  {
   "cell_type": "code",
   "execution_count": 7,
   "id": "1e8c9ad7-5e77-4ae9-901d-a39ac35b261b",
   "metadata": {
    "execution": {
     "iopub.execute_input": "2022-03-18T11:00:53.196815Z",
     "iopub.status.busy": "2022-03-18T11:00:53.196606Z",
     "iopub.status.idle": "2022-03-18T11:00:53.376787Z",
     "shell.execute_reply": "2022-03-18T11:00:53.376480Z",
     "shell.execute_reply.started": "2022-03-18T11:00:53.196798Z"
    },
    "tags": []
   },
   "outputs": [
    {
     "name": "stdout",
     "output_type": "stream",
     "text": [
      "Saving figure 1h_relu\n"
     ]
    },
    {
     "name": "stderr",
     "output_type": "stream",
     "text": [
      "/home/liboyan/Documents/optoSTING/scripts/plotstyle.py:20: UserWarning: This figure includes Axes that are not compatible with tight_layout, so results might be incorrect.\n",
      "  plt.tight_layout()\n"
     ]
    },
    {
     "data": {
      "image/png": "[encoded data removed]",
      "text/plain": [
       "<Figure size 360x396 with 2 Axes>"
      ]
     },
     "metadata": {
      "needs_background": "light"
     },
     "output_type": "display_data"
    }
   ],
   "source": [
    "sheet_name = \"210825_SRMix_1h\"\n",
    "data = pd.read_excel(data_xls, sheet_name=sheet_name, engine=\"openpyxl\")\n",
    "data['sr_ratio_log'] = data.sr_ratio.apply(np.log)\n",
    "\n",
    "fig = plt.figure(figsize=(5, 5.5))\n",
    "gs = GridSpec(2, 1, height_ratios=[1, 10], hspace=0.1)\n",
    "\n",
    "ax = fig.add_subplot(gs[0])\n",
    "ax.plot([-0.2, 0, 0, 1, 1, 4], [0, 0, 1, 1, 0, 0], c=\"r\", lw=2)\n",
    "ax.fill([0, 0, 1, 1, 0], [0, 1, 1, 0, 0], color=\"r\", alpha=0.5)\n",
    "ax.set_xlim([-0.2, 4.2])\n",
    "ax.set_ylim([-0.2, 1.2])\n",
    "ax.axis(\"off\")\n",
    "ax.text(0.35, 1.5, \"1h\", fontsize=14)\n",
    "\n",
    "ax = fig.add_subplot(gs[1])\n",
    "sr_relu_plot(data, x=70, y=60, ax=ax)\n",
    "ax.axis([55, 105, -2, 105])\n",
    "ax.set_xlabel('')\n",
    "ax.set_ylabel('')\n",
    "save_fig(\"1h_relu\")"
   ]
  },
  {
   "cell_type": "markdown",
   "id": "01075e7c-ff29-4da6-a9ef-c7341a7815f4",
   "metadata": {},
   "source": [
    "## 3h"
   ]
  },
  {
   "cell_type": "code",
   "execution_count": 8,
   "id": "6d96de03-d3e9-4886-968c-c458c306dfca",
   "metadata": {
    "execution": {
     "iopub.execute_input": "2022-03-18T11:00:54.756823Z",
     "iopub.status.busy": "2022-03-18T11:00:54.756622Z",
     "iopub.status.idle": "2022-03-18T11:00:55.067694Z",
     "shell.execute_reply": "2022-03-18T11:00:55.067243Z",
     "shell.execute_reply.started": "2022-03-18T11:00:54.756808Z"
    },
    "tags": []
   },
   "outputs": [
    {
     "name": "stdout",
     "output_type": "stream",
     "text": [
      "Saving figure 3h_relu\n"
     ]
    },
    {
     "name": "stderr",
     "output_type": "stream",
     "text": [
      "/home/liboyan/Documents/optoSTING/scripts/plotstyle.py:20: UserWarning: This figure includes Axes that are not compatible with tight_layout, so results might be incorrect.\n",
      "  plt.tight_layout()\n"
     ]
    },
    {
     "data": {
      "image/png": "[encoded data removed]",
      "text/plain": [
       "<Figure size 378x396 with 3 Axes>"
      ]
     },
     "metadata": {
      "needs_background": "light"
     },
     "output_type": "display_data"
    }
   ],
   "source": [
    "sheet_name = \"210825_SRMix_3h\"\n",
    "data = pd.read_excel(data_xls, sheet_name=sheet_name, engine=\"openpyxl\")\n",
    "data['sr_ratio_log'] = data.sr_ratio.apply(np.log)\n",
    "\n",
    "fig = plt.figure(figsize=(5.25, 5.5))\n",
    "gs = GridSpec(2, 2, height_ratios=[1, 10], width_ratios=[10, 0.5], wspace=0.1, hspace=0.1)\n",
    "\n",
    "ax = fig.add_subplot(gs[0, 0])\n",
    "ax.plot([-0.2, 0, 0, 3, 3, 4], [0, 0, 1, 1, 0, 0], c=\"r\", lw=2)\n",
    "ax.fill([0, 0, 3, 3, 0], [0, 1, 1, 0, 0], color=\"r\", alpha=0.5)\n",
    "ax.set_xlim([-0.2, 4.2])\n",
    "ax.set_ylim([-0.2, 1.2])\n",
    "ax.axis(\"off\")\n",
    "ax.text(1.35, 1.5, \"3h\", fontsize=14)\n",
    "\n",
    "ax = fig.add_subplot(gs[1, 0])\n",
    "sr_relu_plot(data, x=80, y=60, ax=ax)\n",
    "ax.axis([70, 105, -2, 105])\n",
    "ax.set_xlabel('')\n",
    "ax.set_ylabel('')\n",
    "\n",
    "# Colorbar\n",
    "ax = fig.add_subplot(gs[1, 1])\n",
    "cbar_ticks = [1/100, 1/10, 1, 10, 100]\n",
    "norm = plt.Normalize(data.sr_ratio_log.min(), data.sr_ratio_log.max())\n",
    "sm = plt.cm.ScalarMappable(cmap=cmap, norm=norm)\n",
    "sm.set_array([])\n",
    "cb = plt.colorbar(sm, cax=ax)\n",
    "cb.set_ticks(np.log(cbar_ticks))\n",
    "cb.set_ticklabels(cbar_ticks)\n",
    "ax.set_xlabel(\"S:R\", fontsize=14)\n",
    "save_fig(\"3h_relu\")"
   ]
  },
  {
   "cell_type": "markdown",
   "id": "ab58141b",
   "metadata": {},
   "source": [
    "## Bar plot"
   ]
  },
  {
   "cell_type": "code",
   "execution_count": 9,
   "id": "9dd1dcd0",
   "metadata": {
    "execution": {
     "iopub.execute_input": "2022-03-18T03:40:47.435335Z",
     "iopub.status.busy": "2022-03-18T03:40:47.435200Z",
     "iopub.status.idle": "2022-03-18T03:40:47.664960Z",
     "shell.execute_reply": "2022-03-18T03:40:47.664665Z",
     "shell.execute_reply.started": "2022-03-18T03:40:47.435321Z"
    },
    "tags": []
   },
   "outputs": [
    {
     "name": "stdout",
     "output_type": "stream",
     "text": [
      "Saving figure sender-receiver_BarPlot\n"
     ]
    },
    {
     "data": {
      "image/png": "[encoded data removed]",
      "text/plain": [
       "<Figure size 720x360 with 1 Axes>"
      ]
     },
     "metadata": {
      "needs_background": "light"
     },
     "output_type": "display_data"
    }
   ],
   "source": [
    "def fs_fr_barplots(data_xls, sheet_name):\n",
    "    defaultStyle(fs=14)\n",
    "    data = pd.read_excel(data_xls, sheet_name=sheet_name, engine=\"openpyxl\")\n",
    "    grouped_data = pd.DataFrame(columns=[\"sr_ratio\", \"activ_ratio\", \"cell\"])\n",
    "    grouped_data[\"sr_ratio\"] = data.sr_ratio.tolist() * 2\n",
    "    grouped_data[\"activ_ratio\"] = data.sender.tolist() + data.receiver.tolist()\n",
    "    grouped_data[\"cell\"] = len(data) * [\"sender\"] + len(data) * [\"receiver\"]\n",
    "    _, ax = plt.subplots(1, 1, figsize=(10, 5))\n",
    "    sns.barplot(\n",
    "        data=grouped_data,\n",
    "        x=\"sr_ratio\", y=\"activ_ratio\", hue=\"cell\",\n",
    "        ci=\"sd\", alpha=.6, ax=ax, palette=[\"red\", \"green\"],\n",
    "        capsize=0.1, errwidth=2,\n",
    "    )\n",
    "    ax.legend(title=\"\", fontsize=14, loc=\"upper left\")\n",
    "    ax.set(xlabel=\"Sender:Receiver\", ylabel=\"Activation ratio (%)\", ylim=[0, 100])\n",
    "\n",
    "    \n",
    "for sheet_name in [\"191019_SRMix\"]:\n",
    "    fs_fr_barplots(data_xls=data_xls, sheet_name=sheet_name)\n",
    "    save_fig(\"sender-receiver_BarPlot\")"
   ]
  }
 ],
 "metadata": {
  "interpreter": {
   "hash": "6845c42425ad2ec08205b1c857b6a179ce0fbafbefc1e19d7d1a9b2bdd980fb0"
  },
  "kernelspec": {
   "display_name": "Python 3.9.13 ('optoSTING')",
   "language": "python",
   "name": "python3"
  },
  "language_info": {
   "codemirror_mode": {
    "name": "ipython",
    "version": 3
   },
   "file_extension": ".py",
   "mimetype": "text/x-python",
   "name": "python",
   "nbconvert_exporter": "python",
   "pygments_lexer": "ipython3",
   "version": "3.9.13"
  },
  "widgets": {
   "application/vnd.jupyter.widget-state+json": {
    "state": {},
    "version_major": 2,
    "version_minor": 0
   }
  }
 },
 "nbformat": 4,
 "nbformat_minor": 5
}
