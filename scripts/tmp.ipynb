{
 "cells": [
  {
   "cell_type": "code",
   "execution_count": 23,
   "id": "f8d107dc-c74d-4f79-8913-ec230a76baa0",
   "metadata": {
    "execution": {
     "iopub.execute_input": "2022-04-08T16:02:30.560903Z",
     "iopub.status.busy": "2022-04-08T16:02:30.560739Z",
     "iopub.status.idle": "2022-04-08T16:02:30.567424Z",
     "shell.execute_reply": "2022-04-08T16:02:30.567095Z",
     "shell.execute_reply.started": "2022-04-08T16:02:30.560888Z"
    },
    "tags": []
   },
   "outputs": [],
   "source": [
    "import numpy as np\n",
    "import matplotlib.pyplot as plt\n",
    "import seaborn as sns\n",
    "from scipy.sparse import csc_matrix, eye\n",
    "from scipy.sparse.linalg import spsolve, inv\n",
    "from scipy.stats import truncnorm\n",
    "from tqdm.notebook import tqdm\n",
    "from scipy.integrate import solve_ivp\n",
    "import numba as nb\n",
    "from matplotlib.gridspec import GridSpec\n",
    "from ast import literal_eval\n",
    "import pandas as pd\n",
    "from plotstyle import defaultStyle, save_fig\n",
    "\n",
    "\n",
    "def elliptic_matrix(n, bc=\"zero_flux\"): \n",
    "    row_ind = [i for i in range(n**2-1) if not i % n == n-1] + [i for i in range(1, n**2) if not i % n == 0] + list(range(n**2-n)) + list(range(n, n**2))\n",
    "    col_ind = [i for i in range(1, n**2) if not i % n == 0] + [i for i in range(n**2-1) if not i % n == n-1] + list(range(n, n**2)) + list(range(n**2-n))\n",
    "    data = [-1] * (n-1) * n * 2 + [-1] * (n**2*2 - 2*n)\n",
    "    A_arr = csc_matrix((data, (row_ind, col_ind)), shape=(n**2, n**2))\n",
    "    if bc == \"zero\":\n",
    "        A_arr_diag_compensation == 0\n",
    "    elif bc == \"zero_flux\":\n",
    "        A_arr_diag_compensation = np.array(np.sum(A_arr, axis=1)).flatten()\n",
    "    row_ind += list(range(n**2))\n",
    "    col_ind += list(range(n**2))\n",
    "    data += list(np.array([4] * n**2) - A_arr_diag_compensation - 4)\n",
    "    A_arr = csc_matrix((data, (row_ind, col_ind)), shape=(n**2, n**2))\n",
    "    return A_arr"
   ]
  },
  {
   "cell_type": "code",
   "execution_count": 66,
   "id": "4b00cfdd-a566-4104-856f-93e5d0dceb95",
   "metadata": {
    "execution": {
     "iopub.execute_input": "2022-04-08T16:38:46.360975Z",
     "iopub.status.busy": "2022-04-08T16:38:46.360817Z",
     "iopub.status.idle": "2022-04-08T16:38:46.551247Z",
     "shell.execute_reply": "2022-04-08T16:38:46.550968Z",
     "shell.execute_reply.started": "2022-04-08T16:38:46.360960Z"
    },
    "tags": []
   },
   "outputs": [
    {
     "data": {
      "text/plain": [
       "array([ 0.99825085, -2.56005051])"
      ]
     },
     "execution_count": 66,
     "metadata": {},
     "output_type": "execute_result"
    }
   ],
   "source": [
    "nGrid = 100\n",
    "gamma = 0.1\n",
    "D = 0.1\n",
    "a = 1 # gamma\n",
    "a_std = a * 1\n",
    "thresh = 5\n",
    "A_arr = elliptic_matrix(nGrid)\n",
    "A_arr += gamma / D * eye(nGrid**2)\n",
    "\n",
    "css = []\n",
    "crs = []\n",
    "for sr in np.arange(0.1, 1, 0.1):\n",
    "    s = np.zeros(nGrid ** 2)\n",
    "    m = int(sr * nGrid ** 2)\n",
    "    s[np.random.choice(np.arange(nGrid ** 2), m, replace=False)] = 1\n",
    "    sol = spsolve(A_arr, s / D)\n",
    "    css.append(np.mean(sol[s==1]))\n",
    "    crs.append(np.mean(sol[s==0]))\n",
    "p = np.polyfit(css, crs, deg=1)\n",
    "p"
   ]
  },
  {
   "cell_type": "code",
   "execution_count": 56,
   "id": "1c6a67c3-c1b9-4106-9bc0-de21f201e94a",
   "metadata": {
    "execution": {
     "iopub.execute_input": "2022-04-08T16:26:26.313917Z",
     "iopub.status.busy": "2022-04-08T16:26:26.313765Z",
     "iopub.status.idle": "2022-04-08T16:26:26.318256Z",
     "shell.execute_reply": "2022-04-08T16:26:26.317982Z",
     "shell.execute_reply.started": "2022-04-08T16:26:26.313902Z"
    },
    "tags": []
   },
   "outputs": [
    {
     "name": "stdout",
     "output_type": "stream",
     "text": [
      "[6.1 0.1 2.1 1.1 1.1 4.1 4.1 3.1 3.1]\n",
      "13.59127288897316\n"
     ]
    }
   ],
   "source": [
    "nGrid = 3\n",
    "gamma = 1\n",
    "D = 10\n",
    "a = 1 # gamma\n",
    "a_std = a * 1\n",
    "thresh = 5\n",
    "A_arr = elliptic_matrix(nGrid)\n",
    "A_arr += gamma / D * eye(nGrid**2)\n",
    "A_arr = A_arr.toarray()\n",
    "A_inv = np.linalg.inv(A_arr)\n",
    "print(np.linalg.eigvals(A_arr))\n",
    "print(np.trace(A_inv))"
   ]
  },
  {
   "cell_type": "code",
   "execution_count": 51,
   "id": "8f9239e2-7def-4164-b4f7-011d667fd81a",
   "metadata": {
    "execution": {
     "iopub.execute_input": "2022-04-08T16:19:07.913236Z",
     "iopub.status.busy": "2022-04-08T16:19:07.913078Z",
     "iopub.status.idle": "2022-04-08T16:19:07.915859Z",
     "shell.execute_reply": "2022-04-08T16:19:07.915583Z",
     "shell.execute_reply.started": "2022-04-08T16:19:07.913222Z"
    },
    "tags": []
   },
   "outputs": [
    {
     "data": {
      "text/plain": [
       "8.881784197001244e-16"
      ]
     },
     "execution_count": 51,
     "metadata": {},
     "output_type": "execute_result"
    }
   ],
   "source": [
    "np.linalg.det(A_arr)"
   ]
  },
  {
   "cell_type": "code",
   "execution_count": 52,
   "id": "c3e8db39-1949-4561-a0a5-31e2453d14df",
   "metadata": {
    "execution": {
     "iopub.execute_input": "2022-04-08T16:19:08.337431Z",
     "iopub.status.busy": "2022-04-08T16:19:08.337278Z",
     "iopub.status.idle": "2022-04-08T16:19:08.340113Z",
     "shell.execute_reply": "2022-04-08T16:19:08.339800Z",
     "shell.execute_reply.started": "2022-04-08T16:19:08.337418Z"
    },
    "tags": []
   },
   "outputs": [
    {
     "data": {
      "text/plain": [
       "array([[ 2., -1., -1.,  0.],\n",
       "       [-1.,  2.,  0., -1.],\n",
       "       [-1.,  0.,  2., -1.],\n",
       "       [ 0., -1., -1.,  2.]])"
      ]
     },
     "execution_count": 52,
     "metadata": {},
     "output_type": "execute_result"
    }
   ],
   "source": [
    "A_arr"
   ]
  },
  {
   "cell_type": "code",
   "execution_count": null,
   "id": "c8f6eca9-ce16-4f99-861d-44b47b4400d4",
   "metadata": {},
   "outputs": [],
   "source": []
  }
 ],
 "metadata": {
  "kernelspec": {
   "display_name": "Python 3",
   "language": "python",
   "name": "python3"
  },
  "language_info": {
   "codemirror_mode": {
    "name": "ipython",
    "version": 3
   },
   "file_extension": ".py",
   "mimetype": "text/x-python",
   "name": "python",
   "nbconvert_exporter": "python",
   "pygments_lexer": "ipython3",
   "version": "3.6.10"
  },
  "widgets": {
   "application/vnd.jupyter.widget-state+json": {
    "state": {},
    "version_major": 2,
    "version_minor": 0
   }
  }
 },
 "nbformat": 4,
 "nbformat_minor": 5
}
