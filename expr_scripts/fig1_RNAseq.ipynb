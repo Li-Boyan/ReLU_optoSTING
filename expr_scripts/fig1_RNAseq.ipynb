{
 "cells": [
  {
   "cell_type": "markdown",
   "id": "971fed25-a418-4aa9-ab8e-72924844b5a4",
   "metadata": {},
   "source": [
    "**optoSTING results - Figure 1 - RNA-seq**"
   ]
  },
  {
   "cell_type": "markdown",
   "id": "a2a384d2-89b1-4eb7-919c-55c07f36542b",
   "metadata": {},
   "source": [
    "# Imports"
   ]
  },
  {
   "cell_type": "code",
   "execution_count": 4,
   "id": "b1a53a5b-8ecf-47c0-8160-87a10aa33156",
   "metadata": {
    "execution": {
     "iopub.execute_input": "2022-03-19T10:46:23.330526Z",
     "iopub.status.busy": "2022-03-19T10:46:23.330318Z",
     "iopub.status.idle": "2022-03-19T10:46:23.335852Z",
     "shell.execute_reply": "2022-03-19T10:46:23.335518Z",
     "shell.execute_reply.started": "2022-03-19T10:46:23.330507Z"
    },
    "tags": []
   },
   "outputs": [],
   "source": [
    "import sys\n",
    "sys.path.append('../')\n",
    "\n",
    "import os\n",
    "import numpy as np\n",
    "import pandas as pd\n",
    "import seaborn as sns\n",
    "from matplotlib import pyplot as plt\n",
    "from plotstyle import defaultStyle, save_fig\n",
    "from scipy.optimize import curve_fit\n",
    "from sklearn.metrics import r2_score\n",
    "import mygene\n",
    "from matplotlib.gridspec import GridSpec\n",
    "from ast import literal_eval\n",
    "import mygene\n",
    "\n",
    "defaultStyle()\n",
    "%matplotlib inline"
   ]
  },
  {
   "cell_type": "markdown",
   "id": "e82eb250-182e-4e18-b463-21e0b4c69970",
   "metadata": {
    "execution": {
     "iopub.execute_input": "2021-10-31T17:52:18.590277Z",
     "iopub.status.busy": "2021-10-31T17:52:18.590128Z",
     "iopub.status.idle": "2021-10-31T17:52:18.667416Z",
     "shell.execute_reply": "2021-10-31T17:52:18.667035Z",
     "shell.execute_reply.started": "2021-10-31T17:52:18.590264Z"
    },
    "tags": []
   },
   "source": [
    "# RNA-Seq"
   ]
  },
  {
   "cell_type": "markdown",
   "id": "75bf23fb-e568-4031-ba42-96a14897f8cd",
   "metadata": {},
   "source": [
    "## Map Ensemble ID to gene names"
   ]
  },
  {
   "cell_type": "code",
   "execution_count": 2,
   "id": "8f3a9fa5-6445-486f-a1a3-55f5336297e8",
   "metadata": {
    "execution": {
     "iopub.execute_input": "2022-03-19T10:46:13.347489Z",
     "iopub.status.busy": "2022-03-19T10:46:13.347351Z",
     "iopub.status.idle": "2022-03-19T10:46:13.399961Z",
     "shell.execute_reply": "2022-03-19T10:46:13.399602Z",
     "shell.execute_reply.started": "2022-03-19T10:46:13.347475Z"
    },
    "tags": []
   },
   "outputs": [
    {
     "data": {
      "text/html": [
       "<div>\n",
       "<style scoped>\n",
       "    .dataframe tbody tr th:only-of-type {\n",
       "        vertical-align: middle;\n",
       "    }\n",
       "\n",
       "    .dataframe tbody tr th {\n",
       "        vertical-align: top;\n",
       "    }\n",
       "\n",
       "    .dataframe thead th {\n",
       "        text-align: right;\n",
       "    }\n",
       "</style>\n",
       "<table border=\"1\" class=\"dataframe\">\n",
       "  <thead>\n",
       "    <tr style=\"text-align: right;\">\n",
       "      <th></th>\n",
       "      <th>ensembl_id</th>\n",
       "      <th>X0.NC</th>\n",
       "      <th>X3.NC</th>\n",
       "      <th>X3.PC</th>\n",
       "      <th>X8.NC</th>\n",
       "      <th>X8.PC</th>\n",
       "      <th>X235.PC</th>\n",
       "    </tr>\n",
       "  </thead>\n",
       "  <tbody>\n",
       "    <tr>\n",
       "      <th>0</th>\n",
       "      <td>ENSG00000000003</td>\n",
       "      <td>188.140110</td>\n",
       "      <td>164.400966</td>\n",
       "      <td>150.327664</td>\n",
       "      <td>195.293186</td>\n",
       "      <td>210.862133</td>\n",
       "      <td>162.850146</td>\n",
       "    </tr>\n",
       "    <tr>\n",
       "      <th>1</th>\n",
       "      <td>ENSG00000000005</td>\n",
       "      <td>0.599172</td>\n",
       "      <td>0.278241</td>\n",
       "      <td>0.404832</td>\n",
       "      <td>0.507695</td>\n",
       "      <td>0.261561</td>\n",
       "      <td>0.446879</td>\n",
       "    </tr>\n",
       "    <tr>\n",
       "      <th>2</th>\n",
       "      <td>ENSG00000000419</td>\n",
       "      <td>56.286953</td>\n",
       "      <td>43.008183</td>\n",
       "      <td>40.314533</td>\n",
       "      <td>52.264338</td>\n",
       "      <td>52.443073</td>\n",
       "      <td>44.092059</td>\n",
       "    </tr>\n",
       "    <tr>\n",
       "      <th>3</th>\n",
       "      <td>ENSG00000000457</td>\n",
       "      <td>16.741580</td>\n",
       "      <td>20.033387</td>\n",
       "      <td>13.764292</td>\n",
       "      <td>19.348805</td>\n",
       "      <td>19.442735</td>\n",
       "      <td>18.284798</td>\n",
       "    </tr>\n",
       "    <tr>\n",
       "      <th>4</th>\n",
       "      <td>ENSG00000000460</td>\n",
       "      <td>35.139695</td>\n",
       "      <td>33.428726</td>\n",
       "      <td>28.675609</td>\n",
       "      <td>36.271958</td>\n",
       "      <td>35.790327</td>\n",
       "      <td>38.506072</td>\n",
       "    </tr>\n",
       "    <tr>\n",
       "      <th>5</th>\n",
       "      <td>ENSG00000000938</td>\n",
       "      <td>0.000000</td>\n",
       "      <td>0.000000</td>\n",
       "      <td>0.000000</td>\n",
       "      <td>0.000000</td>\n",
       "      <td>0.000000</td>\n",
       "      <td>0.000000</td>\n",
       "    </tr>\n",
       "    <tr>\n",
       "      <th>6</th>\n",
       "      <td>ENSG00000000971</td>\n",
       "      <td>0.000000</td>\n",
       "      <td>0.000000</td>\n",
       "      <td>0.000000</td>\n",
       "      <td>0.000000</td>\n",
       "      <td>0.000000</td>\n",
       "      <td>0.000000</td>\n",
       "    </tr>\n",
       "    <tr>\n",
       "      <th>7</th>\n",
       "      <td>ENSG00000001036</td>\n",
       "      <td>117.296794</td>\n",
       "      <td>98.894972</td>\n",
       "      <td>106.707002</td>\n",
       "      <td>105.910733</td>\n",
       "      <td>140.458506</td>\n",
       "      <td>110.639786</td>\n",
       "    </tr>\n",
       "    <tr>\n",
       "      <th>8</th>\n",
       "      <td>ENSG00000001084</td>\n",
       "      <td>39.721601</td>\n",
       "      <td>42.372203</td>\n",
       "      <td>37.615652</td>\n",
       "      <td>39.966846</td>\n",
       "      <td>45.337320</td>\n",
       "      <td>43.496220</td>\n",
       "    </tr>\n",
       "    <tr>\n",
       "      <th>9</th>\n",
       "      <td>ENSG00000001167</td>\n",
       "      <td>70.420371</td>\n",
       "      <td>60.775889</td>\n",
       "      <td>63.997213</td>\n",
       "      <td>72.684942</td>\n",
       "      <td>62.077254</td>\n",
       "      <td>64.722972</td>\n",
       "    </tr>\n",
       "  </tbody>\n",
       "</table>\n",
       "</div>"
      ],
      "text/plain": [
       "        ensembl_id       X0.NC       X3.NC       X3.PC       X8.NC  \\\n",
       "0  ENSG00000000003  188.140110  164.400966  150.327664  195.293186   \n",
       "1  ENSG00000000005    0.599172    0.278241    0.404832    0.507695   \n",
       "2  ENSG00000000419   56.286953   43.008183   40.314533   52.264338   \n",
       "3  ENSG00000000457   16.741580   20.033387   13.764292   19.348805   \n",
       "4  ENSG00000000460   35.139695   33.428726   28.675609   36.271958   \n",
       "5  ENSG00000000938    0.000000    0.000000    0.000000    0.000000   \n",
       "6  ENSG00000000971    0.000000    0.000000    0.000000    0.000000   \n",
       "7  ENSG00000001036  117.296794   98.894972  106.707002  105.910733   \n",
       "8  ENSG00000001084   39.721601   42.372203   37.615652   39.966846   \n",
       "9  ENSG00000001167   70.420371   60.775889   63.997213   72.684942   \n",
       "\n",
       "        X8.PC     X235.PC  \n",
       "0  210.862133  162.850146  \n",
       "1    0.261561    0.446879  \n",
       "2   52.443073   44.092059  \n",
       "3   19.442735   18.284798  \n",
       "4   35.790327   38.506072  \n",
       "5    0.000000    0.000000  \n",
       "6    0.000000    0.000000  \n",
       "7  140.458506  110.639786  \n",
       "8   45.337320   43.496220  \n",
       "9   62.077254   64.722972  "
      ]
     },
     "execution_count": 2,
     "metadata": {},
     "output_type": "execute_result"
    }
   ],
   "source": [
    "rna_seq_path = \"../data/RNAseq\"\n",
    "counts_per_mil_file = os.path.join(rna_seq_path, \"mycount_cpm.csv\")\n",
    "seq_count_df = pd.read_csv(counts_per_mil_file)\n",
    "col_names = seq_count_df.columns.tolist()\n",
    "col_names[0] = \"ensembl_id\"\n",
    "seq_count_df.columns = col_names\n",
    "seq_count_df.head(10)"
   ]
  },
  {
   "cell_type": "code",
   "execution_count": null,
   "id": "f18fc8ef-91b3-4ba2-880c-3f800339f87e",
   "metadata": {
    "tags": []
   },
   "outputs": [],
   "source": [
    "mg = mygene.MyGeneInfo()\n",
    "gene_names = mg.querymany(seq_count_df.ensembl_id.tolist(), scopes='ensembl.gene', fields='symbol', species='human')"
   ]
  },
  {
   "cell_type": "code",
   "execution_count": null,
   "id": "7a5de69f-4fac-4bca-8363-9b91e447e96b",
   "metadata": {
    "execution": {
     "iopub.status.busy": "2022-03-19T10:46:19.131864Z",
     "iopub.status.idle": "2022-03-19T10:46:19.132043Z",
     "shell.execute_reply": "2022-03-19T10:46:19.131955Z"
    },
    "tags": []
   },
   "outputs": [],
   "source": [
    "gene_symbols = [gene['symbol'] for gene in gene_names if 'symbol' in list(gene.keys())]\n",
    "gene_query = [gene['query'] for gene in gene_names if 'symbol' in list(gene.keys())]\n",
    "id2symb_map = {geneid:symb for symb, geneid in zip(gene_symbols, gene_query)}\n",
    "seq_count_df[\"gene\"] = seq_count_df.ensembl_id.map(id2symb_map)\n",
    "seq_count_df.to_csv(os.path.join(rna_seq_path, \"cpm_gene_names.csv\"), index=False)"
   ]
  },
  {
   "cell_type": "markdown",
   "id": "0281433c-7bd6-435f-870f-6e3fbc279792",
   "metadata": {},
   "source": [
    "## Heatmap"
   ]
  },
  {
   "cell_type": "code",
   "execution_count": 5,
   "id": "0a59c913-516c-4839-a6f9-c600841d6aad",
   "metadata": {
    "execution": {
     "iopub.execute_input": "2022-03-19T10:46:26.283420Z",
     "iopub.status.busy": "2022-03-19T10:46:26.283219Z",
     "iopub.status.idle": "2022-03-19T10:46:26.493822Z",
     "shell.execute_reply": "2022-03-19T10:46:26.493470Z",
     "shell.execute_reply.started": "2022-03-19T10:46:26.283403Z"
    },
    "tags": []
   },
   "outputs": [
    {
     "name": "stdout",
     "output_type": "stream",
     "text": [
      "Saving figure RNA-seq_heatmap\n"
     ]
    },
    {
     "data": {
      "image/png": "[encoded data removed]",
      "text/plain": [
       "<Figure size 432x144 with 2 Axes>"
      ]
     },
     "metadata": {
      "needs_background": "light"
     },
     "output_type": "display_data"
    }
   ],
   "source": [
    "seq_count_df = pd.read_csv(os.path.join(rna_seq_path, \"cpm_gene_names.csv\"))\n",
    "selected_cpm_df = seq_count_df[seq_count_df.gene.isin(['OASL', 'IFIH1', 'IFIT1', 'IFIT2', 'CCL5', 'IFIT3'])].copy()\n",
    "selected_cpm_df.set_index(\"gene\", inplace=True)\n",
    "selected_cpm_df.drop(columns=[\"ensembl_id\"], inplace=True)\n",
    "\n",
    "_, ax = plt.subplots(1, 1, figsize=(6, 2))\n",
    "sns.heatmap(selected_cpm_df, vmin=0, vmax=1200, center=550, alpha=1, ax=ax, cmap=\"Reds\")\n",
    "ax.set_yticklabels(selected_cpm_df.index.tolist(), rotation=0)\n",
    "ax.set_ylabel('')\n",
    "ax.set_xticklabels([])\n",
    "ax.xaxis.set_visible(False)\n",
    "save_fig(\"RNA-seq_heatmap\")"
   ]
  }
 ],
 "metadata": {
  "kernelspec": {
   "display_name": "Python 3",
   "language": "python",
   "name": "python3"
  },
  "language_info": {
   "codemirror_mode": {
    "name": "ipython",
    "version": 3
   },
   "file_extension": ".py",
   "mimetype": "text/x-python",
   "name": "python",
   "nbconvert_exporter": "python",
   "pygments_lexer": "ipython3",
   "version": "3.6.10"
  },
  "widgets": {
   "application/vnd.jupyter.widget-state+json": {
    "state": {},
    "version_major": 2,
    "version_minor": 0
   }
  }
 },
 "nbformat": 4,
 "nbformat_minor": 5
}
